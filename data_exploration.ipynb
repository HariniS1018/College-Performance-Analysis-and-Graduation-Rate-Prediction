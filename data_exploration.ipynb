{
 "cells": [
  {
   "cell_type": "markdown",
   "metadata": {},
   "source": [
    "**1. Import Necessary Libraries**"
   ]
  },
  {
   "cell_type": "code",
   "execution_count": 1,
   "metadata": {},
   "outputs": [],
   "source": [
    "import pandas as pd\n",
    "import numpy as np\n",
    "import matplotlib.pyplot as plt\n",
    "import seaborn as sns\n",
    "import math"
   ]
  },
  {
   "cell_type": "markdown",
   "metadata": {},
   "source": [
    "**2. To read the data into Python.**"
   ]
  },
  {
   "cell_type": "code",
   "execution_count": 2,
   "metadata": {},
   "outputs": [
    {
     "name": "stdout",
     "output_type": "stream",
     "text": [
      "                     Unnamed: 0 Private  Apps  Accept  Enroll  Top10perc  \\\n",
      "0  Abilene Christian University     Yes  1660    1232     721         23   \n",
      "1            Adelphi University     Yes  2186    1924     512         16   \n",
      "2                Adrian College     Yes  1428    1097     336         22   \n",
      "3           Agnes Scott College     Yes   417     349     137         60   \n",
      "4     Alaska Pacific University     Yes   193     146      55         16   \n",
      "\n",
      "   Top25perc  F.Undergrad  P.Undergrad  Outstate  Room.Board  Books  Personal  \\\n",
      "0         52         2885          537      7440        3300    450      2200   \n",
      "1         29         2683         1227     12280        6450    750      1500   \n",
      "2         50         1036           99     11250        3750    400      1165   \n",
      "3         89          510           63     12960        5450    450       875   \n",
      "4         44          249          869      7560        4120    800      1500   \n",
      "\n",
      "   PhD  Terminal  S.F.Ratio  perc.alumni  Expend  Grad.Rate  \n",
      "0   70        78       18.1           12    7041         60  \n",
      "1   29        30       12.2           16   10527         56  \n",
      "2   53        66       12.9           30    8735         54  \n",
      "3   92        97        7.7           37   19016         59  \n",
      "4   76        72       11.9            2   10922         15  \n"
     ]
    }
   ],
   "source": [
    "college = pd.read_csv('College.csv')\n",
    "print(college.head())"
   ]
  },
  {
   "cell_type": "markdown",
   "metadata": {},
   "source": [
    "**3. Check For any Null Values**"
   ]
  },
  {
   "cell_type": "code",
   "execution_count": 36,
   "metadata": {},
   "outputs": [
    {
     "name": "stdout",
     "output_type": "stream",
     "text": [
      "Private        0\n",
      "Apps           0\n",
      "Accept         0\n",
      "Enroll         0\n",
      "Top10perc      0\n",
      "Top25perc      0\n",
      "F.Undergrad    0\n",
      "P.Undergrad    0\n",
      "Outstate       0\n",
      "Room.Board     0\n",
      "Books          0\n",
      "Personal       0\n",
      "PhD            0\n",
      "Terminal       0\n",
      "S.F.Ratio      0\n",
      "perc.alumni    0\n",
      "Expend         0\n",
      "Grad.Rate      0\n",
      "dtype: int64\n"
     ]
    }
   ],
   "source": [
    "print(college.isnull().sum())"
   ]
  },
  {
   "cell_type": "markdown",
   "metadata": {},
   "source": [
    "**4. Check for any duplicate entries**"
   ]
  },
  {
   "cell_type": "code",
   "execution_count": 37,
   "metadata": {},
   "outputs": [
    {
     "name": "stdout",
     "output_type": "stream",
     "text": [
      "0\n"
     ]
    }
   ],
   "source": [
    "print(college.duplicated().sum())"
   ]
  },
  {
   "cell_type": "markdown",
   "metadata": {},
   "source": [
    "**5. Check for Data Types**"
   ]
  },
  {
   "cell_type": "code",
   "execution_count": 38,
   "metadata": {},
   "outputs": [
    {
     "name": "stdout",
     "output_type": "stream",
     "text": [
      "<class 'pandas.core.frame.DataFrame'>\n",
      "Index: 777 entries, Abilene Christian University to York College of Pennsylvania\n",
      "Data columns (total 18 columns):\n",
      " #   Column       Non-Null Count  Dtype  \n",
      "---  ------       --------------  -----  \n",
      " 0   Private      777 non-null    object \n",
      " 1   Apps         777 non-null    int64  \n",
      " 2   Accept       777 non-null    int64  \n",
      " 3   Enroll       777 non-null    int64  \n",
      " 4   Top10perc    777 non-null    int64  \n",
      " 5   Top25perc    777 non-null    int64  \n",
      " 6   F.Undergrad  777 non-null    int64  \n",
      " 7   P.Undergrad  777 non-null    int64  \n",
      " 8   Outstate     777 non-null    int64  \n",
      " 9   Room.Board   777 non-null    int64  \n",
      " 10  Books        777 non-null    int64  \n",
      " 11  Personal     777 non-null    int64  \n",
      " 12  PhD          777 non-null    int64  \n",
      " 13  Terminal     777 non-null    int64  \n",
      " 14  S.F.Ratio    777 non-null    float64\n",
      " 15  perc.alumni  777 non-null    int64  \n",
      " 16  Expend       777 non-null    int64  \n",
      " 17  Grad.Rate    777 non-null    int64  \n",
      "dtypes: float64(1), int64(16), object(1)\n",
      "memory usage: 115.3+ KB\n",
      "None\n"
     ]
    }
   ],
   "source": [
    "print(college.info())"
   ]
  },
  {
   "cell_type": "markdown",
   "metadata": {},
   "source": [
    "**6. Standardizing data**"
   ]
  },
  {
   "cell_type": "code",
   "execution_count": null,
   "metadata": {},
   "outputs": [],
   "source": [
    "college['Private'] = college['Private'].str.lower()\n",
    "college['Private'] = college['Private'].str.strip()\n",
    "\n",
    "print(college['Private'].unique())"
   ]
  },
  {
   "cell_type": "markdown",
   "metadata": {},
   "source": [
    "**7. Renaming Columns**\n",
    "- **Rename column name:- college3 = college.rename ({'Unnamed: 0': 'College'}, axis =1)**\n",
    "- **Reset the index of ds:- college3 = college3.set_index('College ')**"
   ]
  },
  {
   "cell_type": "code",
   "execution_count": 28,
   "metadata": {},
   "outputs": [
    {
     "name": "stdout",
     "output_type": "stream",
     "text": [
      "                        College Private  Apps  Accept  Enroll  Top10perc  \\\n",
      "0  Abilene Christian University     Yes  1660    1232     721         23   \n",
      "1            Adelphi University     Yes  2186    1924     512         16   \n",
      "2                Adrian College     Yes  1428    1097     336         22   \n",
      "3           Agnes Scott College     Yes   417     349     137         60   \n",
      "4     Alaska Pacific University     Yes   193     146      55         16   \n",
      "\n",
      "   Top25perc  F.Undergrad  P.Undergrad  Outstate  Room.Board  Books  Personal  \\\n",
      "0         52         2885          537      7440        3300    450      2200   \n",
      "1         29         2683         1227     12280        6450    750      1500   \n",
      "2         50         1036           99     11250        3750    400      1165   \n",
      "3         89          510           63     12960        5450    450       875   \n",
      "4         44          249          869      7560        4120    800      1500   \n",
      "\n",
      "   PhD  Terminal  S.F.Ratio  perc.alumni  Expend  Grad.Rate  \n",
      "0   70        78       18.1           12    7041         60  \n",
      "1   29        30       12.2           16   10527         56  \n",
      "2   53        66       12.9           30    8735         54  \n",
      "3   92        97        7.7           37   19016         59  \n",
      "4   76        72       11.9            2   10922         15  \n",
      "                             Private  Apps  Accept  Enroll  Top10perc  \\\n",
      "College                                                                 \n",
      "Abilene Christian University     Yes  1660    1232     721         23   \n",
      "Adelphi University               Yes  2186    1924     512         16   \n",
      "Adrian College                   Yes  1428    1097     336         22   \n",
      "Agnes Scott College              Yes   417     349     137         60   \n",
      "Alaska Pacific University        Yes   193     146      55         16   \n",
      "\n",
      "                              Top25perc  F.Undergrad  P.Undergrad  Outstate  \\\n",
      "College                                                                       \n",
      "Abilene Christian University         52         2885          537      7440   \n",
      "Adelphi University                   29         2683         1227     12280   \n",
      "Adrian College                       50         1036           99     11250   \n",
      "Agnes Scott College                  89          510           63     12960   \n",
      "Alaska Pacific University            44          249          869      7560   \n",
      "\n",
      "                              Room.Board  Books  Personal  PhD  Terminal  \\\n",
      "College                                                                    \n",
      "Abilene Christian University        3300    450      2200   70        78   \n",
      "Adelphi University                  6450    750      1500   29        30   \n",
      "Adrian College                      3750    400      1165   53        66   \n",
      "Agnes Scott College                 5450    450       875   92        97   \n",
      "Alaska Pacific University           4120    800      1500   76        72   \n",
      "\n",
      "                              S.F.Ratio  perc.alumni  Expend  Grad.Rate  \n",
      "College                                                                  \n",
      "Abilene Christian University       18.1           12    7041         60  \n",
      "Adelphi University                 12.2           16   10527         56  \n",
      "Adrian College                     12.9           30    8735         54  \n",
      "Agnes Scott College                 7.7           37   19016         59  \n",
      "Alaska Pacific University          11.9            2   10922         15  \n"
     ]
    }
   ],
   "source": [
    "college = college.rename ({'Unnamed: 0': 'College'}, axis =1)\n",
    "print(college.head())\n",
    "\n",
    "college = college.set_index('College')\n",
    "print(college.head())"
   ]
  },
  {
   "cell_type": "markdown",
   "metadata": {},
   "source": [
    "**8. Dealing with Inconsistent Data**"
   ]
  },
  {
   "cell_type": "code",
   "execution_count": null,
   "metadata": {},
   "outputs": [],
   "source": [
    "# college['column_name'].replace({'old_value': 'new_value'}, inplace=True)"
   ]
  },
  {
   "cell_type": "markdown",
   "metadata": {},
   "source": [
    "**9. Save Cleaned Data**"
   ]
  },
  {
   "cell_type": "code",
   "execution_count": null,
   "metadata": {},
   "outputs": [],
   "source": [
    "college.to_csv('cleaned_college_data.csv', index=False)"
   ]
  },
  {
   "cell_type": "markdown",
   "metadata": {},
   "source": [
    "**4. To produce a numerical summary of the variables in the data set.**"
   ]
  },
  {
   "cell_type": "code",
   "execution_count": 4,
   "metadata": {},
   "outputs": [
    {
     "data": {
      "text/html": [
       "<div>\n",
       "<style scoped>\n",
       "    .dataframe tbody tr th:only-of-type {\n",
       "        vertical-align: middle;\n",
       "    }\n",
       "\n",
       "    .dataframe tbody tr th {\n",
       "        vertical-align: top;\n",
       "    }\n",
       "\n",
       "    .dataframe thead th {\n",
       "        text-align: right;\n",
       "    }\n",
       "</style>\n",
       "<table border=\"1\" class=\"dataframe\">\n",
       "  <thead>\n",
       "    <tr style=\"text-align: right;\">\n",
       "      <th></th>\n",
       "      <th>Apps</th>\n",
       "      <th>Accept</th>\n",
       "      <th>Enroll</th>\n",
       "      <th>Top10perc</th>\n",
       "      <th>Top25perc</th>\n",
       "      <th>F.Undergrad</th>\n",
       "      <th>P.Undergrad</th>\n",
       "      <th>Outstate</th>\n",
       "      <th>Room.Board</th>\n",
       "      <th>Books</th>\n",
       "      <th>Personal</th>\n",
       "      <th>PhD</th>\n",
       "      <th>Terminal</th>\n",
       "      <th>S.F.Ratio</th>\n",
       "      <th>perc.alumni</th>\n",
       "      <th>Expend</th>\n",
       "      <th>Grad.Rate</th>\n",
       "    </tr>\n",
       "  </thead>\n",
       "  <tbody>\n",
       "    <tr>\n",
       "      <th>count</th>\n",
       "      <td>777.000000</td>\n",
       "      <td>777.000000</td>\n",
       "      <td>777.000000</td>\n",
       "      <td>777.000000</td>\n",
       "      <td>777.000000</td>\n",
       "      <td>777.000000</td>\n",
       "      <td>777.000000</td>\n",
       "      <td>777.000000</td>\n",
       "      <td>777.000000</td>\n",
       "      <td>777.000000</td>\n",
       "      <td>777.000000</td>\n",
       "      <td>777.000000</td>\n",
       "      <td>777.000000</td>\n",
       "      <td>777.000000</td>\n",
       "      <td>777.000000</td>\n",
       "      <td>777.000000</td>\n",
       "      <td>777.00000</td>\n",
       "    </tr>\n",
       "    <tr>\n",
       "      <th>mean</th>\n",
       "      <td>3001.638353</td>\n",
       "      <td>2018.804376</td>\n",
       "      <td>779.972973</td>\n",
       "      <td>27.558559</td>\n",
       "      <td>55.796654</td>\n",
       "      <td>3699.907336</td>\n",
       "      <td>855.298584</td>\n",
       "      <td>10440.669241</td>\n",
       "      <td>4357.526384</td>\n",
       "      <td>549.380952</td>\n",
       "      <td>1340.642214</td>\n",
       "      <td>72.660232</td>\n",
       "      <td>79.702703</td>\n",
       "      <td>14.089704</td>\n",
       "      <td>22.743887</td>\n",
       "      <td>9660.171171</td>\n",
       "      <td>65.46332</td>\n",
       "    </tr>\n",
       "    <tr>\n",
       "      <th>std</th>\n",
       "      <td>3870.201484</td>\n",
       "      <td>2451.113971</td>\n",
       "      <td>929.176190</td>\n",
       "      <td>17.640364</td>\n",
       "      <td>19.804778</td>\n",
       "      <td>4850.420531</td>\n",
       "      <td>1522.431887</td>\n",
       "      <td>4023.016484</td>\n",
       "      <td>1096.696416</td>\n",
       "      <td>165.105360</td>\n",
       "      <td>677.071454</td>\n",
       "      <td>16.328155</td>\n",
       "      <td>14.722359</td>\n",
       "      <td>3.958349</td>\n",
       "      <td>12.391801</td>\n",
       "      <td>5221.768440</td>\n",
       "      <td>17.17771</td>\n",
       "    </tr>\n",
       "    <tr>\n",
       "      <th>min</th>\n",
       "      <td>81.000000</td>\n",
       "      <td>72.000000</td>\n",
       "      <td>35.000000</td>\n",
       "      <td>1.000000</td>\n",
       "      <td>9.000000</td>\n",
       "      <td>139.000000</td>\n",
       "      <td>1.000000</td>\n",
       "      <td>2340.000000</td>\n",
       "      <td>1780.000000</td>\n",
       "      <td>96.000000</td>\n",
       "      <td>250.000000</td>\n",
       "      <td>8.000000</td>\n",
       "      <td>24.000000</td>\n",
       "      <td>2.500000</td>\n",
       "      <td>0.000000</td>\n",
       "      <td>3186.000000</td>\n",
       "      <td>10.00000</td>\n",
       "    </tr>\n",
       "    <tr>\n",
       "      <th>25%</th>\n",
       "      <td>776.000000</td>\n",
       "      <td>604.000000</td>\n",
       "      <td>242.000000</td>\n",
       "      <td>15.000000</td>\n",
       "      <td>41.000000</td>\n",
       "      <td>992.000000</td>\n",
       "      <td>95.000000</td>\n",
       "      <td>7320.000000</td>\n",
       "      <td>3597.000000</td>\n",
       "      <td>470.000000</td>\n",
       "      <td>850.000000</td>\n",
       "      <td>62.000000</td>\n",
       "      <td>71.000000</td>\n",
       "      <td>11.500000</td>\n",
       "      <td>13.000000</td>\n",
       "      <td>6751.000000</td>\n",
       "      <td>53.00000</td>\n",
       "    </tr>\n",
       "    <tr>\n",
       "      <th>50%</th>\n",
       "      <td>1558.000000</td>\n",
       "      <td>1110.000000</td>\n",
       "      <td>434.000000</td>\n",
       "      <td>23.000000</td>\n",
       "      <td>54.000000</td>\n",
       "      <td>1707.000000</td>\n",
       "      <td>353.000000</td>\n",
       "      <td>9990.000000</td>\n",
       "      <td>4200.000000</td>\n",
       "      <td>500.000000</td>\n",
       "      <td>1200.000000</td>\n",
       "      <td>75.000000</td>\n",
       "      <td>82.000000</td>\n",
       "      <td>13.600000</td>\n",
       "      <td>21.000000</td>\n",
       "      <td>8377.000000</td>\n",
       "      <td>65.00000</td>\n",
       "    </tr>\n",
       "    <tr>\n",
       "      <th>75%</th>\n",
       "      <td>3624.000000</td>\n",
       "      <td>2424.000000</td>\n",
       "      <td>902.000000</td>\n",
       "      <td>35.000000</td>\n",
       "      <td>69.000000</td>\n",
       "      <td>4005.000000</td>\n",
       "      <td>967.000000</td>\n",
       "      <td>12925.000000</td>\n",
       "      <td>5050.000000</td>\n",
       "      <td>600.000000</td>\n",
       "      <td>1700.000000</td>\n",
       "      <td>85.000000</td>\n",
       "      <td>92.000000</td>\n",
       "      <td>16.500000</td>\n",
       "      <td>31.000000</td>\n",
       "      <td>10830.000000</td>\n",
       "      <td>78.00000</td>\n",
       "    </tr>\n",
       "    <tr>\n",
       "      <th>max</th>\n",
       "      <td>48094.000000</td>\n",
       "      <td>26330.000000</td>\n",
       "      <td>6392.000000</td>\n",
       "      <td>96.000000</td>\n",
       "      <td>100.000000</td>\n",
       "      <td>31643.000000</td>\n",
       "      <td>21836.000000</td>\n",
       "      <td>21700.000000</td>\n",
       "      <td>8124.000000</td>\n",
       "      <td>2340.000000</td>\n",
       "      <td>6800.000000</td>\n",
       "      <td>103.000000</td>\n",
       "      <td>100.000000</td>\n",
       "      <td>39.800000</td>\n",
       "      <td>64.000000</td>\n",
       "      <td>56233.000000</td>\n",
       "      <td>118.00000</td>\n",
       "    </tr>\n",
       "  </tbody>\n",
       "</table>\n",
       "</div>"
      ],
      "text/plain": [
       "               Apps        Accept       Enroll   Top10perc   Top25perc  \\\n",
       "count    777.000000    777.000000   777.000000  777.000000  777.000000   \n",
       "mean    3001.638353   2018.804376   779.972973   27.558559   55.796654   \n",
       "std     3870.201484   2451.113971   929.176190   17.640364   19.804778   \n",
       "min       81.000000     72.000000    35.000000    1.000000    9.000000   \n",
       "25%      776.000000    604.000000   242.000000   15.000000   41.000000   \n",
       "50%     1558.000000   1110.000000   434.000000   23.000000   54.000000   \n",
       "75%     3624.000000   2424.000000   902.000000   35.000000   69.000000   \n",
       "max    48094.000000  26330.000000  6392.000000   96.000000  100.000000   \n",
       "\n",
       "        F.Undergrad   P.Undergrad      Outstate   Room.Board        Books  \\\n",
       "count    777.000000    777.000000    777.000000   777.000000   777.000000   \n",
       "mean    3699.907336    855.298584  10440.669241  4357.526384   549.380952   \n",
       "std     4850.420531   1522.431887   4023.016484  1096.696416   165.105360   \n",
       "min      139.000000      1.000000   2340.000000  1780.000000    96.000000   \n",
       "25%      992.000000     95.000000   7320.000000  3597.000000   470.000000   \n",
       "50%     1707.000000    353.000000   9990.000000  4200.000000   500.000000   \n",
       "75%     4005.000000    967.000000  12925.000000  5050.000000   600.000000   \n",
       "max    31643.000000  21836.000000  21700.000000  8124.000000  2340.000000   \n",
       "\n",
       "          Personal         PhD    Terminal   S.F.Ratio  perc.alumni  \\\n",
       "count   777.000000  777.000000  777.000000  777.000000   777.000000   \n",
       "mean   1340.642214   72.660232   79.702703   14.089704    22.743887   \n",
       "std     677.071454   16.328155   14.722359    3.958349    12.391801   \n",
       "min     250.000000    8.000000   24.000000    2.500000     0.000000   \n",
       "25%     850.000000   62.000000   71.000000   11.500000    13.000000   \n",
       "50%    1200.000000   75.000000   82.000000   13.600000    21.000000   \n",
       "75%    1700.000000   85.000000   92.000000   16.500000    31.000000   \n",
       "max    6800.000000  103.000000  100.000000   39.800000    64.000000   \n",
       "\n",
       "             Expend  Grad.Rate  \n",
       "count    777.000000  777.00000  \n",
       "mean    9660.171171   65.46332  \n",
       "std     5221.768440   17.17771  \n",
       "min     3186.000000   10.00000  \n",
       "25%     6751.000000   53.00000  \n",
       "50%     8377.000000   65.00000  \n",
       "75%    10830.000000   78.00000  \n",
       "max    56233.000000  118.00000  "
      ]
     },
     "execution_count": 4,
     "metadata": {},
     "output_type": "execute_result"
    }
   ],
   "source": [
    "college.describe()"
   ]
  },
  {
   "cell_type": "markdown",
   "metadata": {},
   "source": [
    "* All attributes have 777 entries, indicating **no missing values** for any of the numerical features.\n",
    "* For application attribute `Apps`,\n",
    "    - min = 81,   mean = 3001,    max=48094, std=3870\n",
    "    - since mean is 30001 and max=48094, there must be potential **outliers** in the `Apps` attribute\n",
    "* attribute `Accept`, `Enroll`, `F.Undergrad`, `P.Undergrad`, `Outstate`, `Expend` are suspected to be outliers\n",
    "* Also, Attribute `Grad.Rate` has maximum value of 118 typically says that there is obvious data errors since graduation rate cannot exceed 100%"
   ]
  },
  {
   "cell_type": "code",
   "execution_count": 5,
   "metadata": {},
   "outputs": [],
   "source": [
    "outlier_suspected_columns = ['Apps', 'Accept', 'Enroll', 'F.Undergrad', 'P.Undergrad', 'Outstate', 'Expend']"
   ]
  },
  {
   "cell_type": "markdown",
   "metadata": {},
   "source": [
    "**5. Coefficient Of Variation**"
   ]
  },
  {
   "cell_type": "code",
   "execution_count": 6,
   "metadata": {},
   "outputs": [
    {
     "name": "stdout",
     "output_type": "stream",
     "text": [
      "--- Coefficient of Variation (CV) ---\n",
      "CV for Apps: 128.94%\n",
      "CV for Accept: 121.41%\n",
      "CV for Enroll: 119.13%\n",
      "CV for F.Undergrad: 131.10%\n",
      "CV for P.Undergrad: 178.00%\n",
      "CV for Outstate: 38.53%\n",
      "CV for Expend: 54.05%\n"
     ]
    }
   ],
   "source": [
    "print(\"--- Coefficient of Variation (CV) ---\")\n",
    "for col in outlier_suspected_columns:\n",
    "    mean = college[col].mean()\n",
    "    std = college[col].std()\n",
    "    if mean != 0:\n",
    "        cv = (std / mean) * 100\n",
    "        print(f\"CV for {col}: {cv:.2f}%\")\n",
    "    else:\n",
    "        print(f\"CV for {col}: Mean is zero, cannot calculate CV.\")"
   ]
  },
  {
   "cell_type": "markdown",
   "metadata": {},
   "source": [
    "**6. Median and Mode**"
   ]
  },
  {
   "cell_type": "code",
   "execution_count": 7,
   "metadata": {},
   "outputs": [
    {
     "name": "stdout",
     "output_type": "stream",
     "text": [
      "--- Median and Mode ---\n",
      "Apps:\n",
      "  Mean: 3001.64\n",
      "  Median: 1558.00\n",
      "  Mode: 440, 663, 1006\n",
      "Accept:\n",
      "  Mean: 2018.80\n",
      "  Median: 1110.00\n",
      "  Mode: 452\n",
      "Enroll:\n",
      "  Mean: 779.97\n",
      "  Median: 434.00\n",
      "  Mode: 177, 295\n",
      "F.Undergrad:\n",
      "  Mean: 3699.91\n",
      "  Median: 1707.00\n",
      "  Mode: 500, 662, 959, 1115, 1306, 1345, 1707\n",
      "P.Undergrad:\n",
      "  Mean: 855.30\n",
      "  Median: 353.00\n",
      "  Mode: 30\n",
      "Outstate:\n",
      "  Mean: 10440.67\n",
      "  Median: 9990.00\n",
      "  Mode: 6550\n",
      "Expend:\n",
      "  Mean: 9660.17\n",
      "  Median: 8377.00\n",
      "  Mode: 4900, 5935, 6333, 6413, 6433, 6562, 6716, 6719, 6898, 6971, 7041, 7114, 7309, 7348, 7762, 7881, 7940, 8118, 8135, 8189, 8324, 8355, 8604, 8686, 8847, 8954, 9084, 9158, 9209, 9431, 10872, 10912, 10922\n",
      "\n",
      "\n"
     ]
    }
   ],
   "source": [
    "print(\"--- Median and Mode ---\")\n",
    "for col in outlier_suspected_columns:\n",
    "    median = college[col].median()\n",
    "    mode = college[col].mode()\n",
    "    mean = college[col].mean()\n",
    "    print(f\"{col}:\")\n",
    "    print(f\"  Mean: {mean:.2f}\")\n",
    "    print(f\"  Median: {median:.2f}\")\n",
    "    # Mode can have multiple values, so print all if any\n",
    "    if not mode.empty:\n",
    "        print(f\"  Mode: {', '.join(mode.astype(str).tolist())}\")\n",
    "    else:\n",
    "        print(\"  Mode: No unique mode found (or multiple modes)\")\n",
    "print(\"\\n\")"
   ]
  },
  {
   "cell_type": "markdown",
   "metadata": {},
   "source": [
    "**7. Skewness Coefficient**"
   ]
  },
  {
   "cell_type": "code",
   "execution_count": 8,
   "metadata": {},
   "outputs": [
    {
     "name": "stdout",
     "output_type": "stream",
     "text": [
      "--- Skewness Coefficient ---\n",
      "Skewness for Apps: 3.72\n",
      "  - Apps is highly right-skewed.\n",
      "Skewness for Accept: 3.42\n",
      "  - Accept is highly right-skewed.\n",
      "Skewness for Enroll: 2.69\n",
      "  - Enroll is highly right-skewed.\n",
      "Skewness for F.Undergrad: 2.61\n",
      "  - F.Undergrad is highly right-skewed.\n",
      "Skewness for P.Undergrad: 5.69\n",
      "  - P.Undergrad is highly right-skewed.\n",
      "Skewness for Outstate: 0.51\n",
      "  - Outstate is highly right-skewed.\n",
      "Skewness for Expend: 3.46\n",
      "  - Expend is highly right-skewed.\n"
     ]
    }
   ],
   "source": [
    "print(\"--- Skewness Coefficient ---\")\n",
    "for col in outlier_suspected_columns:\n",
    "    skewness = college[col].skew()\n",
    "    print(f\"Skewness for {col}: {skewness:.2f}\")\n",
    "    if skewness > 0.5:\n",
    "        print(f\"  - {col} is highly right-skewed.\")\n",
    "    elif skewness < -0.5:\n",
    "        print(f\"  - {col} is highly left-skewed.\")\n",
    "    elif skewness >= -0.5 and skewness <= 0.5:\n",
    "        print(f\"  - {col} is fairly symmetrical.\")\n",
    "    else:\n",
    "        print(f\"  - {col} shows moderate skewness.\")"
   ]
  },
  {
   "cell_type": "markdown",
   "metadata": {},
   "source": [
    "**Conclusion of 5,6,7th steps: Presence Of Potential Outliers**\n",
    "\n",
    "Since,\n",
    "* Coefficient of Variation of every attribute is higher,\n",
    "* comparison of Mean, Median and Mode:\n",
    "    - For `Apps`, Mean > Median > Mode\n",
    "    - For `Accept`, Mean > Median > Mode\n",
    "    - For `Enroll`, Mean > Median > Mode\n",
    "    - For `F.Undergrad`, Mean > Median > Mode\n",
    "    - For `P.Undergrad`, Mean > Median > Mode\n",
    "    - For `Outstate`, Mean > Median > Mode\n",
    "* Skewness Coefficient for every attribute further shows their values are higher than 0.5\n",
    "\n",
    "We conclude that all these attributes have **potential outliers** and **right-Skewed**. Meaning a few large institutions receive a disproportionately high number.\n",
    "\n",
    "However, for Expend, multiple values are tied for the highest frequency. This suggests that the mode is not a particularly informative measure of central tendency for this continuous-like attribute. Though, mean > median, we will ensure its skewness through visualizations (histograms and box plots)."
   ]
  },
  {
   "cell_type": "markdown",
   "metadata": {},
   "source": [
    "----\n",
    "**FURTHER EXPLORATIONS WILL BE IN EXPLORATORY DATA ANALYSIS (EDA)**\n",
    "\n",
    "-----"
   ]
  }
 ],
 "metadata": {
  "kernelspec": {
   "display_name": "Python 3",
   "language": "python",
   "name": "python3"
  },
  "language_info": {
   "codemirror_mode": {
    "name": "ipython",
    "version": 3
   },
   "file_extension": ".py",
   "mimetype": "text/x-python",
   "name": "python",
   "nbconvert_exporter": "python",
   "pygments_lexer": "ipython3",
   "version": "3.12.5"
  }
 },
 "nbformat": 4,
 "nbformat_minor": 2
}
