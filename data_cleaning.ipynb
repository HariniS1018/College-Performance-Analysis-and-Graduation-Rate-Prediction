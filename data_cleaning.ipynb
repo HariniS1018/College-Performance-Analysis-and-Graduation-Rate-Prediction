{
 "cells": [
  {
   "cell_type": "markdown",
   "metadata": {},
   "source": [
    "**1. Import Necessary Libraries**"
   ]
  },
  {
   "cell_type": "code",
   "execution_count": 2,
   "metadata": {},
   "outputs": [],
   "source": [
    "import pandas as pd\n",
    "import numpy as np"
   ]
  },
  {
   "cell_type": "markdown",
   "metadata": {},
   "source": [
    "**2. To read the data into Python.**"
   ]
  },
  {
   "cell_type": "code",
   "execution_count": 3,
   "metadata": {},
   "outputs": [
    {
     "name": "stdout",
     "output_type": "stream",
     "text": [
      "                     Unnamed: 0 Private  Apps  Accept  Enroll  Top10perc  \\\n",
      "0  Abilene Christian University     Yes  1660    1232     721         23   \n",
      "1            Adelphi University     Yes  2186    1924     512         16   \n",
      "2                Adrian College     Yes  1428    1097     336         22   \n",
      "3           Agnes Scott College     Yes   417     349     137         60   \n",
      "4     Alaska Pacific University     Yes   193     146      55         16   \n",
      "\n",
      "   Top25perc  F.Undergrad  P.Undergrad  Outstate  Room.Board  Books  Personal  \\\n",
      "0         52         2885          537      7440        3300    450      2200   \n",
      "1         29         2683         1227     12280        6450    750      1500   \n",
      "2         50         1036           99     11250        3750    400      1165   \n",
      "3         89          510           63     12960        5450    450       875   \n",
      "4         44          249          869      7560        4120    800      1500   \n",
      "\n",
      "   PhD  Terminal  S.F.Ratio  perc.alumni  Expend  Grad.Rate  \n",
      "0   70        78       18.1           12    7041         60  \n",
      "1   29        30       12.2           16   10527         56  \n",
      "2   53        66       12.9           30    8735         54  \n",
      "3   92        97        7.7           37   19016         59  \n",
      "4   76        72       11.9            2   10922         15  \n"
     ]
    }
   ],
   "source": [
    "college = pd.read_csv('College.csv')\n",
    "print(college.head())"
   ]
  },
  {
   "cell_type": "markdown",
   "metadata": {},
   "source": [
    "**3. Check For any missing Values**"
   ]
  },
  {
   "cell_type": "code",
   "execution_count": 4,
   "metadata": {},
   "outputs": [
    {
     "name": "stdout",
     "output_type": "stream",
     "text": [
      "Unnamed: 0     0\n",
      "Private        0\n",
      "Apps           0\n",
      "Accept         0\n",
      "Enroll         0\n",
      "Top10perc      0\n",
      "Top25perc      0\n",
      "F.Undergrad    0\n",
      "P.Undergrad    0\n",
      "Outstate       0\n",
      "Room.Board     0\n",
      "Books          0\n",
      "Personal       0\n",
      "PhD            0\n",
      "Terminal       0\n",
      "S.F.Ratio      0\n",
      "perc.alumni    0\n",
      "Expend         0\n",
      "Grad.Rate      0\n",
      "dtype: int64\n"
     ]
    }
   ],
   "source": [
    "print(college.isnull().sum())"
   ]
  },
  {
   "cell_type": "markdown",
   "metadata": {},
   "source": [
    "**4. Check for any duplicate entries**"
   ]
  },
  {
   "cell_type": "code",
   "execution_count": 5,
   "metadata": {},
   "outputs": [
    {
     "name": "stdout",
     "output_type": "stream",
     "text": [
      "0\n"
     ]
    }
   ],
   "source": [
    "print(college.duplicated().sum())"
   ]
  },
  {
   "cell_type": "markdown",
   "metadata": {},
   "source": [
    "**5. Check for Data Types**"
   ]
  },
  {
   "cell_type": "code",
   "execution_count": 6,
   "metadata": {},
   "outputs": [
    {
     "name": "stdout",
     "output_type": "stream",
     "text": [
      "<class 'pandas.core.frame.DataFrame'>\n",
      "RangeIndex: 777 entries, 0 to 776\n",
      "Data columns (total 19 columns):\n",
      " #   Column       Non-Null Count  Dtype  \n",
      "---  ------       --------------  -----  \n",
      " 0   Unnamed: 0   777 non-null    object \n",
      " 1   Private      777 non-null    object \n",
      " 2   Apps         777 non-null    int64  \n",
      " 3   Accept       777 non-null    int64  \n",
      " 4   Enroll       777 non-null    int64  \n",
      " 5   Top10perc    777 non-null    int64  \n",
      " 6   Top25perc    777 non-null    int64  \n",
      " 7   F.Undergrad  777 non-null    int64  \n",
      " 8   P.Undergrad  777 non-null    int64  \n",
      " 9   Outstate     777 non-null    int64  \n",
      " 10  Room.Board   777 non-null    int64  \n",
      " 11  Books        777 non-null    int64  \n",
      " 12  Personal     777 non-null    int64  \n",
      " 13  PhD          777 non-null    int64  \n",
      " 14  Terminal     777 non-null    int64  \n",
      " 15  S.F.Ratio    777 non-null    float64\n",
      " 16  perc.alumni  777 non-null    int64  \n",
      " 17  Expend       777 non-null    int64  \n",
      " 18  Grad.Rate    777 non-null    int64  \n",
      "dtypes: float64(1), int64(16), object(2)\n",
      "memory usage: 115.5+ KB\n",
      "None\n"
     ]
    }
   ],
   "source": [
    "print(college.info())"
   ]
  },
  {
   "cell_type": "markdown",
   "metadata": {},
   "source": [
    "**6. Standardizing data**"
   ]
  },
  {
   "cell_type": "code",
   "execution_count": 7,
   "metadata": {},
   "outputs": [
    {
     "name": "stdout",
     "output_type": "stream",
     "text": [
      "['yes' 'no']\n"
     ]
    }
   ],
   "source": [
    "college['Private'] = college['Private'].str.lower()\n",
    "college['Private'] = college['Private'].str.strip()\n",
    "\n",
    "print(college['Private'].unique())"
   ]
  },
  {
   "cell_type": "markdown",
   "metadata": {},
   "source": [
    "**7. Renaming Columns**"
   ]
  },
  {
   "cell_type": "code",
   "execution_count": 8,
   "metadata": {},
   "outputs": [
    {
     "name": "stdout",
     "output_type": "stream",
     "text": [
      "                        College Private  Apps  Accept  Enroll  Top10perc  \\\n",
      "0  Abilene Christian University     yes  1660    1232     721         23   \n",
      "1            Adelphi University     yes  2186    1924     512         16   \n",
      "2                Adrian College     yes  1428    1097     336         22   \n",
      "3           Agnes Scott College     yes   417     349     137         60   \n",
      "4     Alaska Pacific University     yes   193     146      55         16   \n",
      "\n",
      "   Top25perc  Fundergrad  Pundergrad  Outstate  RoomBoard  Books  Personal  \\\n",
      "0         52        2885         537      7440       3300    450      2200   \n",
      "1         29        2683        1227     12280       6450    750      1500   \n",
      "2         50        1036          99     11250       3750    400      1165   \n",
      "3         89         510          63     12960       5450    450       875   \n",
      "4         44         249         869      7560       4120    800      1500   \n",
      "\n",
      "   PhD  Terminal  SFRatio  percalumni  Expend  GradRate  \n",
      "0   70        78     18.1          12    7041        60  \n",
      "1   29        30     12.2          16   10527        56  \n",
      "2   53        66     12.9          30    8735        54  \n",
      "3   92        97      7.7          37   19016        59  \n",
      "4   76        72     11.9           2   10922        15  \n"
     ]
    }
   ],
   "source": [
    "college = college.rename ({'Unnamed: 0': 'College', 'F.Undergrad': 'Fundergrad', 'P.Undergrad': 'Pundergrad', 'Room.Board': 'RoomBoard', 'S.F.Ratio': 'SFRatio', 'perc.alumni': 'percalumni', 'Grad.Rate': 'GradRate'}, axis =1)\n",
    "print(college.head())"
   ]
  },
  {
   "cell_type": "markdown",
   "metadata": {},
   "source": [
    "**8. Dealing with Inconsistent Data**"
   ]
  },
  {
   "cell_type": "code",
   "execution_count": 9,
   "metadata": {},
   "outputs": [],
   "source": [
    "numerical_cols = college.select_dtypes(include=np.number).columns\n",
    "for col in numerical_cols:\n",
    "    invalid = college[college[col] < 0]\n",
    "\n",
    "    if not invalid.empty:\n",
    "        print(f\"Invalid (negative) values found in '{col}':\\n\", invalid)\n",
    "        print(\"-\" * 30)"
   ]
  },
  {
   "cell_type": "markdown",
   "metadata": {},
   "source": [
    "**9. Save Cleaned Data**"
   ]
  },
  {
   "cell_type": "code",
   "execution_count": 10,
   "metadata": {},
   "outputs": [],
   "source": [
    "college.to_csv('cleaned_college_data.csv', index=False)"
   ]
  },
  {
   "cell_type": "markdown",
   "metadata": {},
   "source": [
    "**Conclusion:**\n",
    "\n",
    "- No missing values.\n",
    "- No duplicate records.\n",
    "- Appropriate Data types for all attributes.\n",
    "- Converted values of categorical attribute `Private` to lowercase and removed trailing spaces.\n",
    "- Renamed columns which had invalid names & had dot in it to avoid future issues.\n",
    "- No negative values in any attributes.\n",
    "- saved the cleaned data."
   ]
  }
 ],
 "metadata": {
  "kernelspec": {
   "display_name": "Python 3",
   "language": "python",
   "name": "python3"
  },
  "language_info": {
   "codemirror_mode": {
    "name": "ipython",
    "version": 3
   },
   "file_extension": ".py",
   "mimetype": "text/x-python",
   "name": "python",
   "nbconvert_exporter": "python",
   "pygments_lexer": "ipython3",
   "version": "3.12.5"
  }
 },
 "nbformat": 4,
 "nbformat_minor": 2
}
