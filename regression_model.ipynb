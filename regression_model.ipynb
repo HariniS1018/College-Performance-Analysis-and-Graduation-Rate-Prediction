{
 "cells": [
  {
   "cell_type": "code",
   "execution_count": 1,
   "id": "77b3159f",
   "metadata": {},
   "outputs": [],
   "source": [
    "from sklearn.metrics import root_mean_squared_error, mean_squared_error, r2_score\n",
    "from sklearn.model_selection import train_test_split\n",
    "from sklearn.preprocessing import StandardScaler\n",
    "import pandas as pd"
   ]
  },
  {
   "cell_type": "code",
   "execution_count": 2,
   "id": "f1ef69d3",
   "metadata": {},
   "outputs": [
    {
     "data": {
      "text/html": [
       "<div>\n",
       "<style scoped>\n",
       "    .dataframe tbody tr th:only-of-type {\n",
       "        vertical-align: middle;\n",
       "    }\n",
       "\n",
       "    .dataframe tbody tr th {\n",
       "        vertical-align: top;\n",
       "    }\n",
       "\n",
       "    .dataframe thead th {\n",
       "        text-align: right;\n",
       "    }\n",
       "</style>\n",
       "<table border=\"1\" class=\"dataframe\">\n",
       "  <thead>\n",
       "    <tr style=\"text-align: right;\">\n",
       "      <th></th>\n",
       "      <th>Private</th>\n",
       "      <th>Top10perc</th>\n",
       "      <th>Fundergrad</th>\n",
       "      <th>Pundergrad</th>\n",
       "      <th>Books</th>\n",
       "      <th>Personal</th>\n",
       "      <th>Terminal</th>\n",
       "      <th>SFRatio</th>\n",
       "      <th>percalumni</th>\n",
       "      <th>Expend</th>\n",
       "      <th>GradRate</th>\n",
       "      <th>YieldRate</th>\n",
       "      <th>TotalCost</th>\n",
       "    </tr>\n",
       "  </thead>\n",
       "  <tbody>\n",
       "    <tr>\n",
       "      <th>0</th>\n",
       "      <td>1</td>\n",
       "      <td>3.178054</td>\n",
       "      <td>7.967627</td>\n",
       "      <td>6.287859</td>\n",
       "      <td>-0.493143</td>\n",
       "      <td>7.696667</td>\n",
       "      <td>-0.491305</td>\n",
       "      <td>-0.491305</td>\n",
       "      <td>2.564949</td>\n",
       "      <td>-0.491305</td>\n",
       "      <td>60</td>\n",
       "      <td>0.460728</td>\n",
       "      <td>9.281823</td>\n",
       "    </tr>\n",
       "    <tr>\n",
       "      <th>1</th>\n",
       "      <td>1</td>\n",
       "      <td>2.833213</td>\n",
       "      <td>7.895063</td>\n",
       "      <td>7.113142</td>\n",
       "      <td>0.549980</td>\n",
       "      <td>7.313887</td>\n",
       "      <td>0.551599</td>\n",
       "      <td>0.551599</td>\n",
       "      <td>2.833213</td>\n",
       "      <td>0.551599</td>\n",
       "      <td>56</td>\n",
       "      <td>0.235951</td>\n",
       "      <td>9.837935</td>\n",
       "    </tr>\n",
       "    <tr>\n",
       "      <th>2</th>\n",
       "      <td>1</td>\n",
       "      <td>3.135494</td>\n",
       "      <td>6.944087</td>\n",
       "      <td>4.605170</td>\n",
       "      <td>0.093289</td>\n",
       "      <td>7.061334</td>\n",
       "      <td>0.095869</td>\n",
       "      <td>0.095869</td>\n",
       "      <td>3.433987</td>\n",
       "      <td>0.095869</td>\n",
       "      <td>54</td>\n",
       "      <td>0.267191</td>\n",
       "      <td>9.615872</td>\n",
       "    </tr>\n",
       "    <tr>\n",
       "      <th>3</th>\n",
       "      <td>1</td>\n",
       "      <td>4.110874</td>\n",
       "      <td>6.236370</td>\n",
       "      <td>4.158883</td>\n",
       "      <td>1.731005</td>\n",
       "      <td>6.775366</td>\n",
       "      <td>1.725950</td>\n",
       "      <td>1.725950</td>\n",
       "      <td>3.637586</td>\n",
       "      <td>1.725950</td>\n",
       "      <td>59</td>\n",
       "      <td>0.331137</td>\n",
       "      <td>9.820704</td>\n",
       "    </tr>\n",
       "    <tr>\n",
       "      <th>4</th>\n",
       "      <td>1</td>\n",
       "      <td>2.833213</td>\n",
       "      <td>5.521461</td>\n",
       "      <td>6.768493</td>\n",
       "      <td>0.634925</td>\n",
       "      <td>7.313887</td>\n",
       "      <td>0.636244</td>\n",
       "      <td>0.636244</td>\n",
       "      <td>1.399039</td>\n",
       "      <td>0.636244</td>\n",
       "      <td>15</td>\n",
       "      <td>0.319698</td>\n",
       "      <td>9.365719</td>\n",
       "    </tr>\n",
       "  </tbody>\n",
       "</table>\n",
       "</div>"
      ],
      "text/plain": [
       "   Private  Top10perc  Fundergrad  Pundergrad     Books  Personal  Terminal  \\\n",
       "0        1   3.178054    7.967627    6.287859 -0.493143  7.696667 -0.491305   \n",
       "1        1   2.833213    7.895063    7.113142  0.549980  7.313887  0.551599   \n",
       "2        1   3.135494    6.944087    4.605170  0.093289  7.061334  0.095869   \n",
       "3        1   4.110874    6.236370    4.158883  1.731005  6.775366  1.725950   \n",
       "4        1   2.833213    5.521461    6.768493  0.634925  7.313887  0.636244   \n",
       "\n",
       "    SFRatio  percalumni    Expend  GradRate  YieldRate  TotalCost  \n",
       "0 -0.491305    2.564949 -0.491305        60   0.460728   9.281823  \n",
       "1  0.551599    2.833213  0.551599        56   0.235951   9.837935  \n",
       "2  0.095869    3.433987  0.095869        54   0.267191   9.615872  \n",
       "3  1.725950    3.637586  1.725950        59   0.331137   9.820704  \n",
       "4  0.636244    1.399039  0.636244        15   0.319698   9.365719  "
      ]
     },
     "execution_count": 2,
     "metadata": {},
     "output_type": "execute_result"
    }
   ],
   "source": [
    "df = pd.read_csv('preprocessed_college_data.csv')\n",
    "df.head()"
   ]
  },
  {
   "cell_type": "code",
   "execution_count": 3,
   "id": "3acac495",
   "metadata": {},
   "outputs": [
    {
     "name": "stdout",
     "output_type": "stream",
     "text": [
      "X_train shape: (620, 12)\n",
      "X_test shape: (156, 12)\n",
      "y_train shape: (620,)\n",
      "y_test shape: (156,)\n"
     ]
    }
   ],
   "source": [
    "x = df.drop(columns=['GradRate'])\n",
    "y = df['GradRate']\n",
    "\n",
    "x_train, x_test, y_train, y_test = train_test_split(x, y, test_size=0.2, random_state=42)\n",
    "\n",
    "print(\"X_train shape:\", x_train.shape)\n",
    "print(\"X_test shape:\", x_test.shape)\n",
    "print(\"y_train shape:\", y_train.shape)\n",
    "print(\"y_test shape:\", y_test.shape)"
   ]
  },
  {
   "cell_type": "code",
   "execution_count": 4,
   "id": "06cde8d9",
   "metadata": {},
   "outputs": [],
   "source": [
    "scaler = StandardScaler()\n",
    "x_train_scaled = scaler.fit_transform(x_train)\n",
    "x_test_scaled = scaler.transform(x_test)"
   ]
  },
  {
   "cell_type": "code",
   "execution_count": 11,
   "id": "c3c54f75",
   "metadata": {},
   "outputs": [
    {
     "name": "stdout",
     "output_type": "stream",
     "text": [
      "Accuracy: 46.53%\n",
      "Root Mean Squared Error: 12.27022182977131\n",
      "Mean Squared Error: 150.56\n",
      "R-squared: 0.47\n"
     ]
    }
   ],
   "source": [
    "from sklearn.linear_model import LinearRegression\n",
    "lr_model = LinearRegression()\n",
    "lr_model.fit(x_train_scaled, y_train)\n",
    "lr_y_pred = lr_model.predict(x_test_scaled)\n",
    "\n",
    "lr_acc = lr_model.score(x_test_scaled, y_test)\n",
    "lr_rmse = root_mean_squared_error(y_test, lr_y_pred)\n",
    "lr_mse = mean_squared_error(y_test, lr_y_pred)\n",
    "lr_r2 = r2_score(y_test, lr_y_pred)\n",
    "\n",
    "print(f'Accuracy: {round(lr_acc*100,2)}%')\n",
    "print(f\"Root Mean Squared Error: {lr_rmse}\")\n",
    "print(f'Mean Squared Error: {round(lr_mse,2)}')\n",
    "print(f'R-squared: {round(lr_r2, 2)}')"
   ]
  },
  {
   "cell_type": "code",
   "execution_count": 12,
   "id": "0ea3fb63",
   "metadata": {},
   "outputs": [
    {
     "name": "stdout",
     "output_type": "stream",
     "text": [
      "Accuracy: 43.86%\n",
      "Root Mean Squared Error: 12.572688068046954\n",
      "Mean Squared Error: 158.07248525641026\n",
      "R-squared: 0.43862458151332906\n"
     ]
    }
   ],
   "source": [
    "from sklearn.ensemble import RandomForestRegressor\n",
    "rf_model = RandomForestRegressor()\n",
    "rf_model.fit(x_train_scaled, y_train)\n",
    "rf_y_pred = rf_model.predict(x_test_scaled)\n",
    "\n",
    "rf_acc = rf_model.score(x_test_scaled, y_test)\n",
    "rf_rmse = root_mean_squared_error(y_test, rf_y_pred)\n",
    "rf_mse = mean_squared_error(y_test, rf_y_pred)\n",
    "rf_r2 = r2_score(y_test, rf_y_pred)\n",
    "\n",
    "print(f'Accuracy: {round(rf_acc*100,2)}%')\n",
    "print(f\"Root Mean Squared Error: {rf_rmse}\")\n",
    "print(f'Mean Squared Error: {rf_mse}')\n",
    "print(f'R-squared: {rf_r2}')"
   ]
  },
  {
   "cell_type": "code",
   "execution_count": 13,
   "id": "a4fba441",
   "metadata": {},
   "outputs": [
    {
     "name": "stdout",
     "output_type": "stream",
     "text": [
      "Accuracy: 47.26%\n",
      "Root Mean Squared Error: 12.186356852407739\n",
      "Mean Squared Error: 148.50729333422504\n",
      "R-squared: 0.4725942101271381\n"
     ]
    }
   ],
   "source": [
    "from sklearn.ensemble import GradientBoostingRegressor\n",
    "gb_model = GradientBoostingRegressor()\n",
    "gb_model.fit(x_train_scaled, y_train)\n",
    "gb_y_pred = gb_model.predict(x_test_scaled)\n",
    "\n",
    "gb_model_acc = gb_model.score(x_test_scaled, y_test)\n",
    "gb_rmse = root_mean_squared_error(y_test, gb_y_pred)\n",
    "gb_mse = mean_squared_error(y_test, gb_y_pred)\n",
    "gb_r2 = r2_score(y_test, gb_y_pred)\n",
    "\n",
    "print(f'Accuracy: {round(gb_model_acc*100,2)}%')\n",
    "print(f\"Root Mean Squared Error: {gb_rmse}\")\n",
    "print(f'Mean Squared Error: {gb_mse}')\n",
    "print(f'R-squared: {gb_r2}')"
   ]
  }
 ],
 "metadata": {
  "kernelspec": {
   "display_name": "Python 3",
   "language": "python",
   "name": "python3"
  },
  "language_info": {
   "codemirror_mode": {
    "name": "ipython",
    "version": 3
   },
   "file_extension": ".py",
   "mimetype": "text/x-python",
   "name": "python",
   "nbconvert_exporter": "python",
   "pygments_lexer": "ipython3",
   "version": "3.12.5"
  }
 },
 "nbformat": 4,
 "nbformat_minor": 5
}
