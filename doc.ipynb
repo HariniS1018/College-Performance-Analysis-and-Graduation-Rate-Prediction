{
 "cells": [
  {
   "cell_type": "markdown",
   "id": "66b525df",
   "metadata": {},
   "source": [
    "This exercise relates to the College data set, which can be found in the file College.csv on the book website. It contains a number of\n",
    "variables for 777 different universities and colleges in the US. The variables are\n",
    "\n",
    "- Private : Public/private indicator\n",
    "- Apps : Number of applications received\n",
    "- Accept : Number of applicants accepted\n",
    "- Enroll : Number of new students enrolled\n",
    "- Top10perc : New students from top 10 % of high school class\n",
    "- Top25perc : New students from top 25 % of high school class\n",
    "- F.Undergrad : Number of full-time undergraduates\n",
    "- P.Undergrad : Number of part-time undergraduates\n",
    "- Outstate : Out-of-state tuition\n",
    "- Room.Board : Room and board costs\n",
    "- Books : Estimated book costs\n",
    "- Personal : Estimated personal spending\n",
    "- PhD : Percent of faculty with Ph.D.s\n",
    "- Terminal : Percent of faculty with terminal degree\n",
    "- S.F.Ratio : Student/faculty ratio\n",
    "- perc.alumni : Percent of alumni who donate\n",
    "- Expend : Instructional expenditure per student\n",
    "- Grad.Rate : Graduation rate"
   ]
  },
  {
   "cell_type": "markdown",
   "id": "4ee12b48",
   "metadata": {},
   "source": [
    "----\n",
    "## STEPS ACCOMPLISHED SO FAR\n",
    "\n",
    "1.  **Importing Libraries**.\n",
    "2.  **Reading Data**\n",
    "3.  **Indexing/Renaming:** for easier access to individual college information.\n",
    "4.  **Initial Statistics:** This gives a quick numerical summary, highlighting potential issues like large ranges, vastly different scales, and initial hints of outliers. => `no missing values in any attributes but Suspected presence of outliers in few attributes.`\n",
    "5.  **Confirming Suspicions (CV, Skewness, Median/Mode):**\n",
    "    - Coefficient of Variation (CV) helps compare dispersion across variables with different means.\n",
    "    - Skewness tells about the symmetry of the distribution.\n",
    "    - Median and mode give insights into the central tendency beyond just the mean, especially useful for skewed data.\n",
    "6.  **Histograms & Boxplots:** go-to visualization tools for understanding the distribution of individual numerical variables and identifying outliers.\n"
   ]
  },
  {
   "cell_type": "markdown",
   "id": "ec2fb4ec",
   "metadata": {},
   "source": [
    "#### **OVERALL SUMMARY:**\n",
    "\n",
    "* All attributes have 777 entries, indicating **no missing values** for any of the numerical features.\n",
    "* Also, Attribute `Grad.Rate` has maximum value of 118 typically says that there is obvious **data errors** since graduation rate cannot exceed 100%\n",
    "----\n",
    "\n",
    "**Identifying Presence Of Potential Outliers:**\n",
    "\n",
    "From observation of statistical data, we Suspect the presence of outliers in the following attributes = **['Apps', 'Accept', 'Enroll', 'F.Undergrad', 'P.Undergrad', 'Outstate', 'Expend']**. So, Steps have taken and confirmed the **presence of Outliers** by observing the following results.\n",
    "* Coefficient of Variation **(COV)** of every attribute in the above list is higher, **Mean > Median > Mode** for every attribute of the list and further Skewness Coefficient for every attribute further shows their values are higher than 0.5. So, these attributes have potential outliers and **right-Skewed**. Meaning a few large institutions receive a disproportionately high number.\n",
    "* Visualizations prove that the `Expend` attribute also has potential outliers\n",
    "* Visualizations (univariate analysis) on `Top10perc`, `Room.Board`, `Books`, `Personal`, `PhD`, `Terminal`, `S.F.Ratio`, and `perc.alumni` has shown potential outliers beyond statistical checks.\n",
    "* This suggest that careful consideration of data transformation (e.g., log scaling) will be essential during preprocessing to manage their potential impact on ML model performance and to normalize feature distributions.\n",
    "----\n",
    "\n",
    "**Finding Relationship between Variables**\n",
    "\n",
    "So, From the above correlation coefficient Heatmap, we can infer that,\n",
    "* As attribute `Apps` increases `Accept` also increases => Which means, colleges receiving more applications tend to accept a greater number of students.\n",
    "* Similarly,\n",
    "    - `Accept` increases -> `Enroll` will also increase\n",
    "    - `Apps`, or `Accept` or 'Enroll` increases -> `F.Undergrad` will also increase => No. of Full-time Undergraduates increases because they are enrolling more. larger institutions, characterized by higher application and acceptance volumes, generally have a greater number of full-time undergraduate students\n",
    "    - `PhD` increases -> `Terminal` increases -> Faculties with Terminal degree are growing as lot of students studies PhD increases.\n",
    "    - `S.F.Ration` decreases -> `Expend` increases -> As the student-to-faculty ratio decreases (meaning more faculty per student, or smaller class sizes), the instructional expenditure per student tends to increase.\n",
    "\n",
    "Even with a strong correlation, correlation does not imply causation. Just because two variables move together doesn't mean one causes the other. There might be a third, unobserved factor, or the relationship might just be coincidental. Further analysis is needed to find the relationships."
   ]
  }
 ],
 "metadata": {
  "language_info": {
   "name": "python"
  }
 },
 "nbformat": 4,
 "nbformat_minor": 5
}
