{
 "cells": [
  {
   "cell_type": "markdown",
   "id": "66b525df",
   "metadata": {},
   "source": [
    "This exercise relates to the College data set, which can be found in the file College.csv on the book website. It contains a number of\n",
    "variables for 777 different universities and colleges in the US. The variables are\n",
    "\n",
    "- Private : Public/private indicator\n",
    "- Apps : Number of applications received\n",
    "- Accept : Number of applicants accepted\n",
    "- Enroll : Number of new students enrolled\n",
    "- Top10perc : New students from top 10 % of high school class\n",
    "- Top25perc : New students from top 25 % of high school class\n",
    "- F.Undergrad : Number of full-time undergraduates\n",
    "- P.Undergrad : Number of part-time undergraduates\n",
    "- Outstate : Out-of-state tuition\n",
    "- Room.Board : Room and board costs\n",
    "- Books : Estimated book costs\n",
    "- Personal : Estimated personal spending\n",
    "- PhD : Percent of faculty with Ph.D.s\n",
    "- Terminal : Percent of faculty with terminal degree\n",
    "- S.F.Ratio : Student/faculty ratio\n",
    "- perc.alumni : Percent of alumni who donate\n",
    "- Expend : Instructional expenditure per student\n",
    "- Grad.Rate : Graduation rate"
   ]
  },
  {
   "cell_type": "markdown",
   "id": "4ee12b48",
   "metadata": {},
   "source": [
    "----\n",
    "## STEPS ACCOMPLISHED SO FAR\n",
    "\n",
    "1.  **Importing Libraries**.\n",
    "2.  **Reading Data**\n",
    "3.  **Indexing/Renaming:** for easier access to individual college information.\n",
    "4.  **Initial Statistics:** This gives a quick numerical summary, highlighting potential issues like large ranges, vastly different scales, and initial hints of outliers. => `no missing values in any attributes but Suspected presence of outliers in few attributes.`\n",
    "5.  **Confirming Suspicions (CV, Skewness, Median/Mode):**\n",
    "    - Coefficient of Variation (CV) helps compare dispersion across variables with different means.\n",
    "    - Skewness tells about the symmetry of the distribution.\n",
    "    - Median and mode give insights into the central tendency beyond just the mean, especially useful for skewed data.\n",
    "6.  **Histograms & Boxplots:** go-to visualization tools for understanding the distribution of individual numerical variables and identifying outliers.\n"
   ]
  }
 ],
 "metadata": {
  "language_info": {
   "name": "python"
  }
 },
 "nbformat": 4,
 "nbformat_minor": 5
}
