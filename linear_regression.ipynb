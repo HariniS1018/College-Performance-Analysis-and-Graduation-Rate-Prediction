{
 "cells": [
  {
   "cell_type": "code",
   "execution_count": 1,
   "id": "606fa90f",
   "metadata": {},
   "outputs": [],
   "source": [
    "import pandas as pd"
   ]
  },
  {
   "cell_type": "code",
   "execution_count": 2,
   "id": "71eb8e50",
   "metadata": {},
   "outputs": [
    {
     "data": {
      "text/html": [
       "<div>\n",
       "<style scoped>\n",
       "    .dataframe tbody tr th:only-of-type {\n",
       "        vertical-align: middle;\n",
       "    }\n",
       "\n",
       "    .dataframe tbody tr th {\n",
       "        vertical-align: top;\n",
       "    }\n",
       "\n",
       "    .dataframe thead th {\n",
       "        text-align: right;\n",
       "    }\n",
       "</style>\n",
       "<table border=\"1\" class=\"dataframe\">\n",
       "  <thead>\n",
       "    <tr style=\"text-align: right;\">\n",
       "      <th></th>\n",
       "      <th>Private</th>\n",
       "      <th>Top10perc</th>\n",
       "      <th>Fundergrad</th>\n",
       "      <th>Pundergrad</th>\n",
       "      <th>Books</th>\n",
       "      <th>Personal</th>\n",
       "      <th>Terminal</th>\n",
       "      <th>SFRatio</th>\n",
       "      <th>percalumni</th>\n",
       "      <th>Expend</th>\n",
       "      <th>GradRate</th>\n",
       "      <th>YieldRate</th>\n",
       "      <th>TotalCost</th>\n",
       "    </tr>\n",
       "  </thead>\n",
       "  <tbody>\n",
       "    <tr>\n",
       "      <th>0</th>\n",
       "      <td>1</td>\n",
       "      <td>3.178054</td>\n",
       "      <td>7.967627</td>\n",
       "      <td>6.287859</td>\n",
       "      <td>-0.493143</td>\n",
       "      <td>7.696667</td>\n",
       "      <td>-0.491305</td>\n",
       "      <td>-0.491305</td>\n",
       "      <td>2.564949</td>\n",
       "      <td>-0.491305</td>\n",
       "      <td>60</td>\n",
       "      <td>0.460728</td>\n",
       "      <td>9.281823</td>\n",
       "    </tr>\n",
       "    <tr>\n",
       "      <th>1</th>\n",
       "      <td>1</td>\n",
       "      <td>2.833213</td>\n",
       "      <td>7.895063</td>\n",
       "      <td>7.113142</td>\n",
       "      <td>0.549980</td>\n",
       "      <td>7.313887</td>\n",
       "      <td>0.551599</td>\n",
       "      <td>0.551599</td>\n",
       "      <td>2.833213</td>\n",
       "      <td>0.551599</td>\n",
       "      <td>56</td>\n",
       "      <td>0.235951</td>\n",
       "      <td>9.837935</td>\n",
       "    </tr>\n",
       "    <tr>\n",
       "      <th>2</th>\n",
       "      <td>1</td>\n",
       "      <td>3.135494</td>\n",
       "      <td>6.944087</td>\n",
       "      <td>4.605170</td>\n",
       "      <td>0.093289</td>\n",
       "      <td>7.061334</td>\n",
       "      <td>0.095869</td>\n",
       "      <td>0.095869</td>\n",
       "      <td>3.433987</td>\n",
       "      <td>0.095869</td>\n",
       "      <td>54</td>\n",
       "      <td>0.267191</td>\n",
       "      <td>9.615872</td>\n",
       "    </tr>\n",
       "    <tr>\n",
       "      <th>3</th>\n",
       "      <td>1</td>\n",
       "      <td>4.110874</td>\n",
       "      <td>6.236370</td>\n",
       "      <td>4.158883</td>\n",
       "      <td>1.731005</td>\n",
       "      <td>6.775366</td>\n",
       "      <td>1.725950</td>\n",
       "      <td>1.725950</td>\n",
       "      <td>3.637586</td>\n",
       "      <td>1.725950</td>\n",
       "      <td>59</td>\n",
       "      <td>0.331137</td>\n",
       "      <td>9.820704</td>\n",
       "    </tr>\n",
       "    <tr>\n",
       "      <th>4</th>\n",
       "      <td>1</td>\n",
       "      <td>2.833213</td>\n",
       "      <td>5.521461</td>\n",
       "      <td>6.768493</td>\n",
       "      <td>0.634925</td>\n",
       "      <td>7.313887</td>\n",
       "      <td>0.636244</td>\n",
       "      <td>0.636244</td>\n",
       "      <td>1.399039</td>\n",
       "      <td>0.636244</td>\n",
       "      <td>15</td>\n",
       "      <td>0.319698</td>\n",
       "      <td>9.365719</td>\n",
       "    </tr>\n",
       "  </tbody>\n",
       "</table>\n",
       "</div>"
      ],
      "text/plain": [
       "   Private  Top10perc  Fundergrad  Pundergrad     Books  Personal  Terminal  \\\n",
       "0        1   3.178054    7.967627    6.287859 -0.493143  7.696667 -0.491305   \n",
       "1        1   2.833213    7.895063    7.113142  0.549980  7.313887  0.551599   \n",
       "2        1   3.135494    6.944087    4.605170  0.093289  7.061334  0.095869   \n",
       "3        1   4.110874    6.236370    4.158883  1.731005  6.775366  1.725950   \n",
       "4        1   2.833213    5.521461    6.768493  0.634925  7.313887  0.636244   \n",
       "\n",
       "    SFRatio  percalumni    Expend  GradRate  YieldRate  TotalCost  \n",
       "0 -0.491305    2.564949 -0.491305        60   0.460728   9.281823  \n",
       "1  0.551599    2.833213  0.551599        56   0.235951   9.837935  \n",
       "2  0.095869    3.433987  0.095869        54   0.267191   9.615872  \n",
       "3  1.725950    3.637586  1.725950        59   0.331137   9.820704  \n",
       "4  0.636244    1.399039  0.636244        15   0.319698   9.365719  "
      ]
     },
     "execution_count": 2,
     "metadata": {},
     "output_type": "execute_result"
    }
   ],
   "source": [
    "df = pd.read_csv('preprocessed_college_data.csv')\n",
    "df.head()"
   ]
  },
  {
   "cell_type": "code",
   "execution_count": 5,
   "id": "e6f780fd",
   "metadata": {},
   "outputs": [
    {
     "name": "stdout",
     "output_type": "stream",
     "text": [
      "X_train shape: (620, 12)\n",
      "X_test shape: (156, 12)\n",
      "y_train shape: (620,)\n",
      "y_test shape: (156,)\n"
     ]
    }
   ],
   "source": [
    "from sklearn.model_selection import train_test_split\n",
    "x = df.drop(columns=['GradRate'])\n",
    "y = df['GradRate']\n",
    "\n",
    "x_train, x_test, y_train, y_test = train_test_split(x, y, test_size=0.2, random_state=42)\n",
    "\n",
    "print(\"X_train shape:\", x_train.shape)\n",
    "print(\"X_test shape:\", x_test.shape)\n",
    "print(\"y_train shape:\", y_train.shape)\n",
    "print(\"y_test shape:\", y_test.shape)"
   ]
  },
  {
   "cell_type": "code",
   "execution_count": 6,
   "id": "dbcf9ad8",
   "metadata": {},
   "outputs": [],
   "source": [
    "from sklearn.preprocessing import StandardScaler\n",
    "scaler = StandardScaler()\n",
    "x_train_scaled = scaler.fit_transform(x_train)\n",
    "x_test_scaled = scaler.transform(x_test)"
   ]
  },
  {
   "cell_type": "code",
   "execution_count": 7,
   "id": "30e10806",
   "metadata": {},
   "outputs": [],
   "source": [
    "from sklearn.linear_model import LinearRegression\n",
    "model = LinearRegression()\n",
    "model.fit(x_train_scaled, y_train)\n",
    "y_pred = model.predict(x_test_scaled)"
   ]
  },
  {
   "cell_type": "code",
   "execution_count": 8,
   "id": "19bc8ebd",
   "metadata": {},
   "outputs": [
    {
     "name": "stdout",
     "output_type": "stream",
     "text": [
      "Mean Squared Error: 150.5583437517964\n",
      "R-squared: 0.4653101512687373\n"
     ]
    }
   ],
   "source": [
    "from sklearn.metrics import mean_squared_error, r2_score\n",
    "mse = mean_squared_error(y_test, y_pred)\n",
    "r2 = r2_score(y_test, y_pred)\n",
    "\n",
    "print(f'Mean Squared Error: {mse}')\n",
    "print(f'R-squared: {r2}')"
   ]
  }
 ],
 "metadata": {
  "kernelspec": {
   "display_name": "Python 3",
   "language": "python",
   "name": "python3"
  },
  "language_info": {
   "codemirror_mode": {
    "name": "ipython",
    "version": 3
   },
   "file_extension": ".py",
   "mimetype": "text/x-python",
   "name": "python",
   "nbconvert_exporter": "python",
   "pygments_lexer": "ipython3",
   "version": "3.12.5"
  }
 },
 "nbformat": 4,
 "nbformat_minor": 5
}
