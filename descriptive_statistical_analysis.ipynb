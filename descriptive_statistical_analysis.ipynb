{
 "cells": [
  {
   "cell_type": "markdown",
   "id": "6b372362",
   "metadata": {},
   "source": [
    "**1. Import Necessary Libraries**"
   ]
  },
  {
   "cell_type": "code",
   "execution_count": 1,
   "id": "40050c18",
   "metadata": {},
   "outputs": [],
   "source": [
    "import pandas as pd"
   ]
  },
  {
   "cell_type": "markdown",
   "id": "6397b351",
   "metadata": {},
   "source": [
    "**2. To read the data into Python.**"
   ]
  },
  {
   "cell_type": "code",
   "execution_count": 2,
   "id": "2fc0d10c",
   "metadata": {},
   "outputs": [
    {
     "name": "stdout",
     "output_type": "stream",
     "text": [
      "                        College Private  Apps  Accept  Enroll  Top10perc  \\\n",
      "0  Abilene Christian University     yes  1660    1232     721         23   \n",
      "1            Adelphi University     yes  2186    1924     512         16   \n",
      "2                Adrian College     yes  1428    1097     336         22   \n",
      "3           Agnes Scott College     yes   417     349     137         60   \n",
      "4     Alaska Pacific University     yes   193     146      55         16   \n",
      "\n",
      "   Top25perc  Fundergrad  Pundergrad  Outstate  RoomBoard  Books  Personal  \\\n",
      "0         52        2885         537      7440       3300    450      2200   \n",
      "1         29        2683        1227     12280       6450    750      1500   \n",
      "2         50        1036          99     11250       3750    400      1165   \n",
      "3         89         510          63     12960       5450    450       875   \n",
      "4         44         249         869      7560       4120    800      1500   \n",
      "\n",
      "   PhD  Terminal  SFRatio  percalumni  Expend  GradRate  \n",
      "0   70        78     18.1          12    7041        60  \n",
      "1   29        30     12.2          16   10527        56  \n",
      "2   53        66     12.9          30    8735        54  \n",
      "3   92        97      7.7          37   19016        59  \n",
      "4   76        72     11.9           2   10922        15  \n"
     ]
    }
   ],
   "source": [
    "college = pd.read_csv('cleaned_college_data.csv')\n",
    "print(college.head())"
   ]
  },
  {
   "cell_type": "markdown",
   "id": "b85f5f32",
   "metadata": {},
   "source": [
    "**3. To produce a numerical summary of the variables in the data set.**"
   ]
  },
  {
   "cell_type": "code",
   "execution_count": 3,
   "id": "b3f2b02e",
   "metadata": {},
   "outputs": [
    {
     "data": {
      "text/html": [
       "<div>\n",
       "<style scoped>\n",
       "    .dataframe tbody tr th:only-of-type {\n",
       "        vertical-align: middle;\n",
       "    }\n",
       "\n",
       "    .dataframe tbody tr th {\n",
       "        vertical-align: top;\n",
       "    }\n",
       "\n",
       "    .dataframe thead th {\n",
       "        text-align: right;\n",
       "    }\n",
       "</style>\n",
       "<table border=\"1\" class=\"dataframe\">\n",
       "  <thead>\n",
       "    <tr style=\"text-align: right;\">\n",
       "      <th></th>\n",
       "      <th>Apps</th>\n",
       "      <th>Accept</th>\n",
       "      <th>Enroll</th>\n",
       "      <th>Top10perc</th>\n",
       "      <th>Top25perc</th>\n",
       "      <th>Fundergrad</th>\n",
       "      <th>Pundergrad</th>\n",
       "      <th>Outstate</th>\n",
       "      <th>RoomBoard</th>\n",
       "      <th>Books</th>\n",
       "      <th>Personal</th>\n",
       "      <th>PhD</th>\n",
       "      <th>Terminal</th>\n",
       "      <th>SFRatio</th>\n",
       "      <th>percalumni</th>\n",
       "      <th>Expend</th>\n",
       "      <th>GradRate</th>\n",
       "    </tr>\n",
       "  </thead>\n",
       "  <tbody>\n",
       "    <tr>\n",
       "      <th>count</th>\n",
       "      <td>776.000000</td>\n",
       "      <td>776.000000</td>\n",
       "      <td>776.000000</td>\n",
       "      <td>776.000000</td>\n",
       "      <td>776.000000</td>\n",
       "      <td>776.000000</td>\n",
       "      <td>776.000000</td>\n",
       "      <td>776.000000</td>\n",
       "      <td>776.000000</td>\n",
       "      <td>776.000000</td>\n",
       "      <td>776.000000</td>\n",
       "      <td>776.000000</td>\n",
       "      <td>776.000000</td>\n",
       "      <td>776.000000</td>\n",
       "      <td>776.000000</td>\n",
       "      <td>776.000000</td>\n",
       "      <td>776.000000</td>\n",
       "    </tr>\n",
       "    <tr>\n",
       "      <th>mean</th>\n",
       "      <td>3000.548969</td>\n",
       "      <td>2016.981959</td>\n",
       "      <td>780.298969</td>\n",
       "      <td>27.582474</td>\n",
       "      <td>55.823454</td>\n",
       "      <td>3703.373711</td>\n",
       "      <td>856.385309</td>\n",
       "      <td>10442.030928</td>\n",
       "      <td>4356.904639</td>\n",
       "      <td>549.315722</td>\n",
       "      <td>1341.725515</td>\n",
       "      <td>72.725515</td>\n",
       "      <td>79.744845</td>\n",
       "      <td>14.089433</td>\n",
       "      <td>22.747423</td>\n",
       "      <td>9662.701031</td>\n",
       "      <td>65.395619</td>\n",
       "    </tr>\n",
       "    <tr>\n",
       "      <th>std</th>\n",
       "      <td>3872.578376</td>\n",
       "      <td>2452.168020</td>\n",
       "      <td>929.731001</td>\n",
       "      <td>17.639133</td>\n",
       "      <td>19.803448</td>\n",
       "      <td>4852.585693</td>\n",
       "      <td>1523.112196</td>\n",
       "      <td>4025.431964</td>\n",
       "      <td>1097.266697</td>\n",
       "      <td>165.201826</td>\n",
       "      <td>676.833991</td>\n",
       "      <td>16.236897</td>\n",
       "      <td>14.684883</td>\n",
       "      <td>3.960895</td>\n",
       "      <td>12.399401</td>\n",
       "      <td>5224.659733</td>\n",
       "      <td>17.084743</td>\n",
       "    </tr>\n",
       "    <tr>\n",
       "      <th>min</th>\n",
       "      <td>81.000000</td>\n",
       "      <td>72.000000</td>\n",
       "      <td>35.000000</td>\n",
       "      <td>1.000000</td>\n",
       "      <td>9.000000</td>\n",
       "      <td>139.000000</td>\n",
       "      <td>1.000000</td>\n",
       "      <td>2340.000000</td>\n",
       "      <td>1780.000000</td>\n",
       "      <td>96.000000</td>\n",
       "      <td>250.000000</td>\n",
       "      <td>8.000000</td>\n",
       "      <td>24.000000</td>\n",
       "      <td>2.500000</td>\n",
       "      <td>0.000000</td>\n",
       "      <td>3186.000000</td>\n",
       "      <td>10.000000</td>\n",
       "    </tr>\n",
       "    <tr>\n",
       "      <th>25%</th>\n",
       "      <td>776.000000</td>\n",
       "      <td>603.250000</td>\n",
       "      <td>242.000000</td>\n",
       "      <td>15.000000</td>\n",
       "      <td>41.000000</td>\n",
       "      <td>991.000000</td>\n",
       "      <td>95.000000</td>\n",
       "      <td>7305.000000</td>\n",
       "      <td>3595.750000</td>\n",
       "      <td>469.500000</td>\n",
       "      <td>865.000000</td>\n",
       "      <td>62.000000</td>\n",
       "      <td>71.000000</td>\n",
       "      <td>11.500000</td>\n",
       "      <td>13.000000</td>\n",
       "      <td>6749.250000</td>\n",
       "      <td>53.000000</td>\n",
       "    </tr>\n",
       "    <tr>\n",
       "      <th>50%</th>\n",
       "      <td>1557.500000</td>\n",
       "      <td>1109.500000</td>\n",
       "      <td>434.000000</td>\n",
       "      <td>23.000000</td>\n",
       "      <td>54.000000</td>\n",
       "      <td>1707.500000</td>\n",
       "      <td>354.000000</td>\n",
       "      <td>9990.000000</td>\n",
       "      <td>4197.500000</td>\n",
       "      <td>500.000000</td>\n",
       "      <td>1200.000000</td>\n",
       "      <td>75.000000</td>\n",
       "      <td>82.000000</td>\n",
       "      <td>13.600000</td>\n",
       "      <td>21.000000</td>\n",
       "      <td>8392.500000</td>\n",
       "      <td>65.000000</td>\n",
       "    </tr>\n",
       "    <tr>\n",
       "      <th>75%</th>\n",
       "      <td>3603.000000</td>\n",
       "      <td>2407.500000</td>\n",
       "      <td>902.250000</td>\n",
       "      <td>35.000000</td>\n",
       "      <td>69.000000</td>\n",
       "      <td>4030.250000</td>\n",
       "      <td>967.250000</td>\n",
       "      <td>12931.250000</td>\n",
       "      <td>5050.000000</td>\n",
       "      <td>600.000000</td>\n",
       "      <td>1700.000000</td>\n",
       "      <td>85.000000</td>\n",
       "      <td>92.000000</td>\n",
       "      <td>16.500000</td>\n",
       "      <td>31.000000</td>\n",
       "      <td>10838.500000</td>\n",
       "      <td>78.000000</td>\n",
       "    </tr>\n",
       "    <tr>\n",
       "      <th>max</th>\n",
       "      <td>48094.000000</td>\n",
       "      <td>26330.000000</td>\n",
       "      <td>6392.000000</td>\n",
       "      <td>96.000000</td>\n",
       "      <td>100.000000</td>\n",
       "      <td>31643.000000</td>\n",
       "      <td>21836.000000</td>\n",
       "      <td>21700.000000</td>\n",
       "      <td>8124.000000</td>\n",
       "      <td>2340.000000</td>\n",
       "      <td>6800.000000</td>\n",
       "      <td>103.000000</td>\n",
       "      <td>100.000000</td>\n",
       "      <td>39.800000</td>\n",
       "      <td>64.000000</td>\n",
       "      <td>56233.000000</td>\n",
       "      <td>100.000000</td>\n",
       "    </tr>\n",
       "  </tbody>\n",
       "</table>\n",
       "</div>"
      ],
      "text/plain": [
       "               Apps        Accept       Enroll   Top10perc   Top25perc  \\\n",
       "count    776.000000    776.000000   776.000000  776.000000  776.000000   \n",
       "mean    3000.548969   2016.981959   780.298969   27.582474   55.823454   \n",
       "std     3872.578376   2452.168020   929.731001   17.639133   19.803448   \n",
       "min       81.000000     72.000000    35.000000    1.000000    9.000000   \n",
       "25%      776.000000    603.250000   242.000000   15.000000   41.000000   \n",
       "50%     1557.500000   1109.500000   434.000000   23.000000   54.000000   \n",
       "75%     3603.000000   2407.500000   902.250000   35.000000   69.000000   \n",
       "max    48094.000000  26330.000000  6392.000000   96.000000  100.000000   \n",
       "\n",
       "         Fundergrad    Pundergrad      Outstate    RoomBoard        Books  \\\n",
       "count    776.000000    776.000000    776.000000   776.000000   776.000000   \n",
       "mean    3703.373711    856.385309  10442.030928  4356.904639   549.315722   \n",
       "std     4852.585693   1523.112196   4025.431964  1097.266697   165.201826   \n",
       "min      139.000000      1.000000   2340.000000  1780.000000    96.000000   \n",
       "25%      991.000000     95.000000   7305.000000  3595.750000   469.500000   \n",
       "50%     1707.500000    354.000000   9990.000000  4197.500000   500.000000   \n",
       "75%     4030.250000    967.250000  12931.250000  5050.000000   600.000000   \n",
       "max    31643.000000  21836.000000  21700.000000  8124.000000  2340.000000   \n",
       "\n",
       "          Personal         PhD    Terminal     SFRatio  percalumni  \\\n",
       "count   776.000000  776.000000  776.000000  776.000000  776.000000   \n",
       "mean   1341.725515   72.725515   79.744845   14.089433   22.747423   \n",
       "std     676.833991   16.236897   14.684883    3.960895   12.399401   \n",
       "min     250.000000    8.000000   24.000000    2.500000    0.000000   \n",
       "25%     865.000000   62.000000   71.000000   11.500000   13.000000   \n",
       "50%    1200.000000   75.000000   82.000000   13.600000   21.000000   \n",
       "75%    1700.000000   85.000000   92.000000   16.500000   31.000000   \n",
       "max    6800.000000  103.000000  100.000000   39.800000   64.000000   \n",
       "\n",
       "             Expend    GradRate  \n",
       "count    776.000000  776.000000  \n",
       "mean    9662.701031   65.395619  \n",
       "std     5224.659733   17.084743  \n",
       "min     3186.000000   10.000000  \n",
       "25%     6749.250000   53.000000  \n",
       "50%     8392.500000   65.000000  \n",
       "75%    10838.500000   78.000000  \n",
       "max    56233.000000  100.000000  "
      ]
     },
     "execution_count": 3,
     "metadata": {},
     "output_type": "execute_result"
    }
   ],
   "source": [
    "college.describe()"
   ]
  },
  {
   "cell_type": "markdown",
   "id": "5dc6c331",
   "metadata": {},
   "source": [
    "* All attributes have 777 entries, indicating **no missing values** for any of the numerical features.\n",
    "* For application attribute `Apps`,\n",
    "    - min = 81,   mean = 3001,    max=48094, std=3870\n",
    "    - since mean is 30001 and max=48094, there must be potential **outliers** in the `Apps` attribute\n",
    "* attribute `Accept`, `Enroll`, `Fundergrad`, `Pundergrad`, `Outstate`, `Expend` are suspected to be outliers\n",
    "* Also, Attribute `GradRate` has maximum value of 118 typically says that there is obvious data errors since graduation rate cannot exceed 100%"
   ]
  },
  {
   "cell_type": "markdown",
   "id": "1d00b7d1",
   "metadata": {},
   "source": [
    "**4. Handle Data error**"
   ]
  },
  {
   "cell_type": "code",
   "execution_count": 8,
   "id": "8f5df61f",
   "metadata": {},
   "outputs": [
    {
     "name": "stdout",
     "output_type": "stream",
     "text": [
      "Original DataFrame shape: (776, 19)\n"
     ]
    }
   ],
   "source": [
    "index_to_drop = college[college['GradRate'] > 100].index\n",
    "college = college.drop(index_to_drop)\n",
    "\n",
    "print(f\"Original DataFrame shape: {college.shape}\")"
   ]
  },
  {
   "cell_type": "code",
   "execution_count": 4,
   "id": "0749b4cc",
   "metadata": {},
   "outputs": [],
   "source": [
    "outlier_suspected_columns = ['Apps', 'Accept', 'Enroll', 'Fundergrad', 'Pundergrad', 'Outstate', 'Expend']"
   ]
  },
  {
   "cell_type": "markdown",
   "id": "1f8db0fe",
   "metadata": {},
   "source": [
    "**5. Coefficient Of Variation**"
   ]
  },
  {
   "cell_type": "code",
   "execution_count": 5,
   "id": "b655423d",
   "metadata": {},
   "outputs": [
    {
     "name": "stdout",
     "output_type": "stream",
     "text": [
      "--- Coefficient of Variation (CV) ---\n",
      "CV for Apps: 129.06%\n",
      "CV for Accept: 121.58%\n",
      "CV for Enroll: 119.15%\n",
      "CV for Fundergrad: 131.03%\n",
      "CV for Pundergrad: 177.85%\n",
      "CV for Outstate: 38.55%\n",
      "CV for Expend: 54.07%\n"
     ]
    }
   ],
   "source": [
    "print(\"--- Coefficient of Variation (CV) ---\")\n",
    "for col in outlier_suspected_columns:\n",
    "    mean = college[col].mean()\n",
    "    std = college[col].std()\n",
    "    if mean != 0:\n",
    "        cv = (std / mean) * 100\n",
    "        print(f\"CV for {col}: {cv:.2f}%\")\n",
    "    else:\n",
    "        print(f\"CV for {col}: Mean is zero, cannot calculate CV.\")"
   ]
  },
  {
   "cell_type": "markdown",
   "id": "bb84d011",
   "metadata": {},
   "source": [
    "**6. Median and Mode**"
   ]
  },
  {
   "cell_type": "code",
   "execution_count": 6,
   "id": "be7c906a",
   "metadata": {},
   "outputs": [
    {
     "name": "stdout",
     "output_type": "stream",
     "text": [
      "--- Median and Mode ---\n",
      "Apps:\n",
      "  Mean: 3000.55\n",
      "  Median: 1557.50\n",
      "  Mode: 440, 663, 1006\n",
      "Accept:\n",
      "  Mean: 2016.98\n",
      "  Median: 1109.50\n",
      "  Mode: 452\n",
      "Enroll:\n",
      "  Mean: 780.30\n",
      "  Median: 434.00\n",
      "  Mode: 177, 295\n",
      "Fundergrad:\n",
      "  Mean: 3703.37\n",
      "  Median: 1707.50\n",
      "  Mode: 500, 662, 959, 1115, 1306, 1345, 1707\n",
      "Pundergrad:\n",
      "  Mean: 856.39\n",
      "  Median: 354.00\n",
      "  Mode: 30\n",
      "Outstate:\n",
      "  Mean: 10442.03\n",
      "  Median: 9990.00\n",
      "  Mode: 6550\n",
      "Expend:\n",
      "  Mean: 9662.70\n",
      "  Median: 8392.50\n",
      "  Mode: 4900, 5935, 6333, 6413, 6433, 6562, 6716, 6719, 6898, 6971, 7041, 7114, 7309, 7348, 7762, 7881, 7940, 8118, 8135, 8189, 8324, 8355, 8604, 8686, 8847, 8954, 9084, 9158, 9209, 9431, 10872, 10912, 10922\n",
      "\n",
      "\n"
     ]
    }
   ],
   "source": [
    "print(\"--- Median and Mode ---\")\n",
    "for col in outlier_suspected_columns:\n",
    "    median = college[col].median()\n",
    "    mode = college[col].mode()\n",
    "    mean = college[col].mean()\n",
    "    print(f\"{col}:\")\n",
    "    print(f\"  Mean: {mean:.2f}\")\n",
    "    print(f\"  Median: {median:.2f}\")\n",
    "    if not mode.empty:\n",
    "        print(f\"  Mode: {', '.join(mode.astype(str).tolist())}\")\n",
    "    else:\n",
    "        print(\"  Mode: No unique mode found (or multiple modes)\")\n",
    "print(\"\\n\")"
   ]
  },
  {
   "cell_type": "markdown",
   "id": "26a392fc",
   "metadata": {},
   "source": [
    "**7. Skewness Coefficient**"
   ]
  },
  {
   "cell_type": "code",
   "execution_count": 7,
   "id": "ae48958c",
   "metadata": {},
   "outputs": [
    {
     "name": "stdout",
     "output_type": "stream",
     "text": [
      "--- Skewness Coefficient ---\n",
      "Skewness for Apps: 3.72\n",
      "  - Apps is highly right-skewed.\n",
      "Skewness for Accept: 3.42\n",
      "  - Accept is highly right-skewed.\n",
      "Skewness for Enroll: 2.69\n",
      "  - Enroll is highly right-skewed.\n",
      "Skewness for Fundergrad: 2.61\n",
      "  - Fundergrad is highly right-skewed.\n",
      "Skewness for Pundergrad: 5.69\n",
      "  - Pundergrad is highly right-skewed.\n",
      "Skewness for Outstate: 0.51\n",
      "  - Outstate is highly right-skewed.\n",
      "Skewness for Expend: 3.46\n",
      "  - Expend is highly right-skewed.\n"
     ]
    }
   ],
   "source": [
    "print(\"--- Skewness Coefficient ---\")\n",
    "for col in outlier_suspected_columns:\n",
    "    skewness = college[col].skew()\n",
    "    print(f\"Skewness for {col}: {skewness:.2f}\")\n",
    "    if skewness > 0.5:\n",
    "        print(f\"  - {col} is highly right-skewed.\")\n",
    "    elif skewness < -0.5:\n",
    "        print(f\"  - {col} is highly left-skewed.\")\n",
    "    elif skewness >= -0.5 and skewness <= 0.5:\n",
    "        print(f\"  - {col} is fairly symmetrical.\")\n",
    "    else:\n",
    "        print(f\"  - {col} shows moderate skewness.\")"
   ]
  },
  {
   "cell_type": "markdown",
   "id": "67d4a8e5",
   "metadata": {},
   "source": [
    "**Conclusion of 4,5,6th steps: Presence Of Potential Outliers**\n",
    "\n",
    "Since,\n",
    "* Coefficient of Variation of every attribute is higher,\n",
    "* comparison of Mean, Median and Mode:\n",
    "    - For `Apps`, Mean > Median > Mode\n",
    "    - For `Accept`, Mean > Median > Mode\n",
    "    - For `Enroll`, Mean > Median > Mode\n",
    "    - For `Fundergrad`, Mean > Median > Mode\n",
    "    - For `Pundergrad`, Mean > Median > Mode\n",
    "    - For `Outstate`, Mean > Median > Mode\n",
    "* Skewness Coefficient for every attribute further shows their values are higher than 0.5\n",
    "\n",
    "We conclude that all these attributes have **potential outliers** and **right-Skewed**. Meaning a few large institutions receive a disproportionately high number.\n",
    "\n",
    "However, for Expend, multiple values are tied for the highest frequency. This suggests that the mode is not a particularly informative measure of central tendency for this continuous-like attribute. Though, mean > median, we will ensure its skewness through visualizations (histograms and box plots)."
   ]
  },
  {
   "cell_type": "code",
   "execution_count": 9,
   "id": "beddaf20",
   "metadata": {},
   "outputs": [],
   "source": [
    "college.to_csv('error_free_college_data.csv', index=False)"
   ]
  },
  {
   "cell_type": "markdown",
   "id": "b78f0c06",
   "metadata": {},
   "source": [
    "----\n",
    "**FURTHER EXPLORATIONS WILL BE IN EXPLORATORY DATA ANALYSIS (EDA)**\n",
    "\n",
    "-----"
   ]
  }
 ],
 "metadata": {
  "kernelspec": {
   "display_name": "Python 3",
   "language": "python",
   "name": "python3"
  },
  "language_info": {
   "codemirror_mode": {
    "name": "ipython",
    "version": 3
   },
   "file_extension": ".py",
   "mimetype": "text/x-python",
   "name": "python",
   "nbconvert_exporter": "python",
   "pygments_lexer": "ipython3",
   "version": "3.12.5"
  }
 },
 "nbformat": 4,
 "nbformat_minor": 5
}
