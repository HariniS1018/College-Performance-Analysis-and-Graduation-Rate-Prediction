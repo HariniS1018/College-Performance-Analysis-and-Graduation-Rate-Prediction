{
 "cells": [
  {
   "cell_type": "markdown",
   "id": "6b372362",
   "metadata": {},
   "source": [
    "**1. Import Necessary Libraries**"
   ]
  },
  {
   "cell_type": "code",
   "execution_count": null,
   "id": "40050c18",
   "metadata": {},
   "outputs": [],
   "source": [
    "import pandas as pd\n",
    "import numpy as np\n",
    "import matplotlib.pyplot as plt\n",
    "import seaborn as sns\n",
    "import math"
   ]
  },
  {
   "cell_type": "markdown",
   "id": "6397b351",
   "metadata": {},
   "source": [
    "**2. To read the data into Python.**"
   ]
  },
  {
   "cell_type": "code",
   "execution_count": null,
   "id": "2fc0d10c",
   "metadata": {},
   "outputs": [],
   "source": [
    "college = pd.read_csv('cleaned_college_data.csv')\n",
    "print(college.head())"
   ]
  },
  {
   "cell_type": "markdown",
   "id": "b85f5f32",
   "metadata": {},
   "source": [
    "**3. To produce a numerical summary of the variables in the data set.**"
   ]
  },
  {
   "cell_type": "code",
   "execution_count": null,
   "id": "b3f2b02e",
   "metadata": {},
   "outputs": [],
   "source": [
    "college.describe()"
   ]
  },
  {
   "cell_type": "markdown",
   "id": "5dc6c331",
   "metadata": {},
   "source": [
    "* All attributes have 777 entries, indicating **no missing values** for any of the numerical features.\n",
    "* For application attribute `Apps`,\n",
    "    - min = 81,   mean = 3001,    max=48094, std=3870\n",
    "    - since mean is 30001 and max=48094, there must be potential **outliers** in the `Apps` attribute\n",
    "* attribute `Accept`, `Enroll`, `F.Undergrad`, `P.Undergrad`, `Outstate`, `Expend` are suspected to be outliers\n",
    "* Also, Attribute `Grad.Rate` has maximum value of 118 typically says that there is obvious data errors since graduation rate cannot exceed 100%"
   ]
  },
  {
   "cell_type": "code",
   "execution_count": null,
   "id": "0749b4cc",
   "metadata": {},
   "outputs": [],
   "source": [
    "outlier_suspected_columns = ['Apps', 'Accept', 'Enroll', 'F.Undergrad', 'P.Undergrad', 'Outstate', 'Expend']"
   ]
  },
  {
   "cell_type": "markdown",
   "id": "1f8db0fe",
   "metadata": {},
   "source": [
    "**4. Coefficient Of Variation**"
   ]
  },
  {
   "cell_type": "code",
   "execution_count": null,
   "id": "b655423d",
   "metadata": {},
   "outputs": [],
   "source": [
    "print(\"--- Coefficient of Variation (CV) ---\")\n",
    "for col in outlier_suspected_columns:\n",
    "    mean = college[col].mean()\n",
    "    std = college[col].std()\n",
    "    if mean != 0:\n",
    "        cv = (std / mean) * 100\n",
    "        print(f\"CV for {col}: {cv:.2f}%\")\n",
    "    else:\n",
    "        print(f\"CV for {col}: Mean is zero, cannot calculate CV.\")"
   ]
  },
  {
   "cell_type": "markdown",
   "id": "bb84d011",
   "metadata": {},
   "source": [
    "**5. Median and Mode**"
   ]
  },
  {
   "cell_type": "code",
   "execution_count": null,
   "id": "be7c906a",
   "metadata": {},
   "outputs": [],
   "source": [
    "print(\"--- Median and Mode ---\")\n",
    "for col in outlier_suspected_columns:\n",
    "    median = college[col].median()\n",
    "    mode = college[col].mode()\n",
    "    mean = college[col].mean()\n",
    "    print(f\"{col}:\")\n",
    "    print(f\"  Mean: {mean:.2f}\")\n",
    "    print(f\"  Median: {median:.2f}\")\n",
    "    # Mode can have multiple values, so print all if any\n",
    "    if not mode.empty:\n",
    "        print(f\"  Mode: {', '.join(mode.astype(str).tolist())}\")\n",
    "    else:\n",
    "        print(\"  Mode: No unique mode found (or multiple modes)\")\n",
    "print(\"\\n\")"
   ]
  },
  {
   "cell_type": "markdown",
   "id": "26a392fc",
   "metadata": {},
   "source": [
    "**7. Skewness Coefficient**"
   ]
  },
  {
   "cell_type": "code",
   "execution_count": null,
   "id": "ae48958c",
   "metadata": {},
   "outputs": [],
   "source": [
    "print(\"--- Skewness Coefficient ---\")\n",
    "for col in outlier_suspected_columns:\n",
    "    skewness = college[col].skew()\n",
    "    print(f\"Skewness for {col}: {skewness:.2f}\")\n",
    "    if skewness > 0.5:\n",
    "        print(f\"  - {col} is highly right-skewed.\")\n",
    "    elif skewness < -0.5:\n",
    "        print(f\"  - {col} is highly left-skewed.\")\n",
    "    elif skewness >= -0.5 and skewness <= 0.5:\n",
    "        print(f\"  - {col} is fairly symmetrical.\")\n",
    "    else:\n",
    "        print(f\"  - {col} shows moderate skewness.\")"
   ]
  },
  {
   "cell_type": "markdown",
   "id": "67d4a8e5",
   "metadata": {},
   "source": [
    "**Conclusion of 4,5,6th steps: Presence Of Potential Outliers**\n",
    "\n",
    "Since,\n",
    "* Coefficient of Variation of every attribute is higher,\n",
    "* comparison of Mean, Median and Mode:\n",
    "    - For `Apps`, Mean > Median > Mode\n",
    "    - For `Accept`, Mean > Median > Mode\n",
    "    - For `Enroll`, Mean > Median > Mode\n",
    "    - For `F.Undergrad`, Mean > Median > Mode\n",
    "    - For `P.Undergrad`, Mean > Median > Mode\n",
    "    - For `Outstate`, Mean > Median > Mode\n",
    "* Skewness Coefficient for every attribute further shows their values are higher than 0.5\n",
    "\n",
    "We conclude that all these attributes have **potential outliers** and **right-Skewed**. Meaning a few large institutions receive a disproportionately high number.\n",
    "\n",
    "However, for Expend, multiple values are tied for the highest frequency. This suggests that the mode is not a particularly informative measure of central tendency for this continuous-like attribute. Though, mean > median, we will ensure its skewness through visualizations (histograms and box plots)."
   ]
  },
  {
   "cell_type": "markdown",
   "id": "b78f0c06",
   "metadata": {},
   "source": [
    "----\n",
    "**FURTHER EXPLORATIONS WILL BE IN EXPLORATORY DATA ANALYSIS (EDA)**\n",
    "\n",
    "-----"
   ]
  }
 ],
 "metadata": {
  "language_info": {
   "name": "python"
  }
 },
 "nbformat": 4,
 "nbformat_minor": 5
}
